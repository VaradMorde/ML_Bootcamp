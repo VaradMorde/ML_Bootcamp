{
 "cells": [
  {
   "cell_type": "markdown",
   "id": "f25daf5a",
   "metadata": {},
   "source": [
    "## Varad Morde Assignment 3"
   ]
  },
  {
   "cell_type": "markdown",
   "id": "4829ff4b",
   "metadata": {},
   "source": [
    "#### 1. Why are functions advantageous to have in your programs?"
   ]
  },
  {
   "cell_type": "markdown",
   "id": "19f868c9",
   "metadata": {},
   "source": [
    "1. Functions stops us from writing same logic for many times.\n",
    "2. Functions can used to reduce use of duplicate code.\n",
    "3. Fuctions are easy to read and understand the logic.\n",
    "4. Easy to call a function to execute when required.\n",
    "5. Functions can be reused."
   ]
  },
  {
   "cell_type": "markdown",
   "id": "d659ff32",
   "metadata": {},
   "source": [
    "#### 2. When does the code in a function run: when it's specified or when it's called?"
   ]
  },
  {
   "cell_type": "markdown",
   "id": "3f8c97bf",
   "metadata": {},
   "source": [
    "Code in a function runs when the function is being called."
   ]
  },
  {
   "cell_type": "markdown",
   "id": "69d1454b",
   "metadata": {},
   "source": [
    "#### 3. What statement creates a function?"
   ]
  },
  {
   "cell_type": "markdown",
   "id": "3865d1c4",
   "metadata": {},
   "source": [
    "When the key word `def` is used before declaring the function name i.e the statement`def` is used to create a function"
   ]
  },
  {
   "cell_type": "markdown",
   "id": "1449163b",
   "metadata": {},
   "source": [
    "for eg.:\n",
    "\n",
    "def funtion_name(arguments):\n",
    "\n",
    "    function body\n",
    "    return value"
   ]
  },
  {
   "cell_type": "markdown",
   "id": "69da4fdb",
   "metadata": {},
   "source": [
    "#### 4. What is the difference between a function and a function call?"
   ]
  },
  {
   "cell_type": "markdown",
   "id": "ba75af2c",
   "metadata": {},
   "source": [
    "**Functions***\n",
    "1. Function is used to execute some line of a code which will do a particular function/activity.\n",
    "2. Function is a procedural code used to describe and execute a particular task which will end returning some result\n",
    "**Function call**\n",
    "1. Function call is something called as calling or invoking any particular function which we want to execute"
   ]
  },
  {
   "cell_type": "markdown",
   "id": "102b44fa",
   "metadata": {},
   "source": [
    "#### 5. How many global scopes are there in a python program? How many local scopes?"
   ]
  },
  {
   "cell_type": "markdown",
   "id": "041546b1",
   "metadata": {},
   "source": [
    "There is 1 global scopes is declared outside the funtion, and local scopes are created inside the functions."
   ]
  },
  {
   "cell_type": "markdown",
   "id": "4b088c51",
   "metadata": {},
   "source": [
    "#### 6. What happens to variables in a local scope when the function call returns?"
   ]
  },
  {
   "cell_type": "markdown",
   "id": "e97e148a",
   "metadata": {},
   "source": [
    "When a function call returns at that time all the variables in local scope inside a function will get destroyed when the function call will return and all variables present inside the function will get forgotten"
   ]
  },
  {
   "cell_type": "markdown",
   "id": "596a94f2",
   "metadata": {},
   "source": [
    "#### 7. What is the concept of a return value? Is it possible to have a return value in an expression?"
   ]
  },
  {
   "cell_type": "markdown",
   "id": "60d13868",
   "metadata": {},
   "source": [
    "return value is the value which will get return as a meaning full value to a funtion call. Yes, return value can be used as an expression"
   ]
  },
  {
   "cell_type": "markdown",
   "id": "99a5af8a",
   "metadata": {},
   "source": [
    "#### 8. If a function does not have a return statement, what is the return value of a call to that function?"
   ]
  },
  {
   "cell_type": "markdown",
   "id": "de538ad7",
   "metadata": {},
   "source": [
    "if there is no return statement in a function then the default return value of a function call will be `None`"
   ]
  },
  {
   "cell_type": "markdown",
   "id": "d82380fd",
   "metadata": {},
   "source": [
    "#### 9. How do you make a function variable refer to the global variable?"
   ]
  },
  {
   "cell_type": "markdown",
   "id": "631fc27b",
   "metadata": {},
   "source": [
    "A global statement will force a variable in a function to refer to the global variable and you can declare `global` keyword to declare which vaiables are global "
   ]
  },
  {
   "cell_type": "markdown",
   "id": "0c93de47",
   "metadata": {},
   "source": [
    "#### 10. What is the data type of None?"
   ]
  },
  {
   "cell_type": "markdown",
   "id": "66b6d3a3",
   "metadata": {},
   "source": [
    "`NoneType` is the data type of None"
   ]
  },
  {
   "cell_type": "markdown",
   "id": "b55d0adb",
   "metadata": {},
   "source": [
    "#### 11. What does the sentence import areallyourpetsnamederic do?"
   ]
  },
  {
   "cell_type": "markdown",
   "id": "48a5b864",
   "metadata": {},
   "source": [
    "By using the sentence import areallyourpetsnamederic will import a module called as areallyourpetsnamederic"
   ]
  },
  {
   "cell_type": "markdown",
   "id": "235622ad",
   "metadata": {},
   "source": [
    "#### 12. If you had a bacon() feature in a spam module, what would you call it after importing spam?"
   ]
  },
  {
   "cell_type": "markdown",
   "id": "64a55c55",
   "metadata": {},
   "source": [
    "after importing a spam module we can simply call the bacon() feature in a spam module by `spam.bacon()`"
   ]
  },
  {
   "cell_type": "markdown",
   "id": "84a5e114",
   "metadata": {},
   "source": [
    "#### 13. What can you do to save a programme from crashing if it encounters an error?"
   ]
  },
  {
   "cell_type": "markdown",
   "id": "1fad4271",
   "metadata": {},
   "source": [
    "We can try `exception handling` to save a programme from crashing if it encounters an error.\n",
    "\n",
    "We can do this by using `try` and `except` clause.\n",
    "\n",
    "code which will cause error can put inside a try and the code that executes if an error happens goes in the except clause."
   ]
  },
  {
   "cell_type": "markdown",
   "id": "aba66ca5",
   "metadata": {},
   "source": [
    "#### 14. What is the purpose of the try clause? What is the purpose of the except clause?"
   ]
  },
  {
   "cell_type": "markdown",
   "id": "92c8ed6f",
   "metadata": {},
   "source": [
    "The code which will give us a error can be put inside the `try` clause. and the code that executes if an error happens goes in the `except` clause"
   ]
  },
  {
   "cell_type": "code",
   "execution_count": null,
   "id": "7c260801",
   "metadata": {},
   "outputs": [],
   "source": []
  }
 ],
 "metadata": {
  "kernelspec": {
   "display_name": "Python 3 (ipykernel)",
   "language": "python",
   "name": "python3"
  },
  "language_info": {
   "codemirror_mode": {
    "name": "ipython",
    "version": 3
   },
   "file_extension": ".py",
   "mimetype": "text/x-python",
   "name": "python",
   "nbconvert_exporter": "python",
   "pygments_lexer": "ipython3",
   "version": "3.9.13"
  }
 },
 "nbformat": 4,
 "nbformat_minor": 5
}
