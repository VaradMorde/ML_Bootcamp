{
 "cells": [
  {
   "cell_type": "markdown",
   "id": "bfa5c176",
   "metadata": {},
   "source": [
    "## Varad Morde Assignment 4"
   ]
  },
  {
   "cell_type": "markdown",
   "id": "817fd4d9",
   "metadata": {},
   "source": [
    "#### 1. What exactly is [ ]?"
   ]
  },
  {
   "cell_type": "markdown",
   "id": "4be72da3",
   "metadata": {},
   "source": [
    "`[ ]` represents a list with no items and this is called as a empty list."
   ]
  },
  {
   "cell_type": "markdown",
   "id": "5003e2bf",
   "metadata": {},
   "source": [
    "#### 2. In a list of values stored in a variable called spam, how would you assign the value 'hello' as the third value?(Assume [2, 4, 6, 8, 10] are in spam)\n"
   ]
  },
  {
   "cell_type": "markdown",
   "id": "d2cd6320",
   "metadata": {},
   "source": [
    "To assign a value 'hello' as third value we can simply do `spam[2] = 'hello'`"
   ]
  },
  {
   "cell_type": "code",
   "execution_count": 1,
   "id": "bf85f799",
   "metadata": {},
   "outputs": [
    {
     "name": "stdout",
     "output_type": "stream",
     "text": [
      "[2, 4, 6, 8, 10]\n",
      "[2, 4, 'hello', 8, 10]\n"
     ]
    }
   ],
   "source": [
    "spam = [2,4,6,8,10]\n",
    "print(spam)\n",
    "spam[2] = 'hello'\n",
    "print(spam)"
   ]
  },
  {
   "cell_type": "markdown",
   "id": "786da008",
   "metadata": {},
   "source": [
    "So in above cell we can see the third value in spam is been updated to 'hello'"
   ]
  },
  {
   "cell_type": "markdown",
   "id": "d0e8bda0",
   "metadata": {},
   "source": [
    "### Let's pretend the spam includes the list ['a', 'b', 'c', 'd'] for the next three queries."
   ]
  },
  {
   "cell_type": "markdown",
   "id": "c9a1f973",
   "metadata": {},
   "source": [
    "#### 3. What is the value of spam[int(int['3' * 2) / 11)]?"
   ]
  },
  {
   "cell_type": "code",
   "execution_count": 2,
   "id": "4d403f4d",
   "metadata": {},
   "outputs": [
    {
     "name": "stdout",
     "output_type": "stream",
     "text": [
      "output for the above given condition is  d\n"
     ]
    }
   ],
   "source": [
    "spam = ['a','b','c','d']\n",
    "print(\"output for the above given condition is \", spam[int(int('3'*2)/11)])"
   ]
  },
  {
   "cell_type": "markdown",
   "id": "ef91ec23",
   "metadata": {},
   "source": [
    "as we can see in given condition that '3' is a string and multiplied by 2 so it will be '33' which is passed to int() before beign divided by 11.\n",
    "which get evaluated as total index number as 3. so `spam[3]` will get called which is `'d'`"
   ]
  },
  {
   "cell_type": "markdown",
   "id": "3f9a0995",
   "metadata": {},
   "source": [
    "#### 4. what is the value of spam[-1]?"
   ]
  },
  {
   "cell_type": "code",
   "execution_count": 3,
   "id": "94459756",
   "metadata": {},
   "outputs": [
    {
     "data": {
      "text/plain": [
       "'d'"
      ]
     },
     "execution_count": 3,
     "metadata": {},
     "output_type": "execute_result"
    }
   ],
   "source": [
    "spam[-1]"
   ]
  },
  {
   "cell_type": "markdown",
   "id": "97f955a4",
   "metadata": {},
   "source": [
    "as specified -1 as index number it will simply start doing the `reverse indexing` so it will get executed in reverse index order "
   ]
  },
  {
   "cell_type": "markdown",
   "id": "e8f5883b",
   "metadata": {},
   "source": [
    "#### 5. What is the value of spam[:2]?"
   ]
  },
  {
   "cell_type": "code",
   "execution_count": 4,
   "id": "f32f95f9",
   "metadata": {},
   "outputs": [
    {
     "data": {
      "text/plain": [
       "['a', 'b']"
      ]
     },
     "execution_count": 4,
     "metadata": {},
     "output_type": "execute_result"
    }
   ],
   "source": [
    "spam[:2]"
   ]
  },
  {
   "cell_type": "markdown",
   "id": "1fdffeb3",
   "metadata": {},
   "source": [
    "in above cell we have passed spam[:2] this will simply start calling from index 0 to 2 excluding index 2"
   ]
  },
  {
   "cell_type": "markdown",
   "id": "99fafb60",
   "metadata": {},
   "source": [
    "### Let's pretend bacon has the list [3.14, 'cat', 11, 'cat', True] for the next three questons."
   ]
  },
  {
   "cell_type": "markdown",
   "id": "8531b0b4",
   "metadata": {},
   "source": [
    "#### 6. What is the value of the bacon.index('cat')?"
   ]
  },
  {
   "cell_type": "code",
   "execution_count": 5,
   "id": "530fcd2d",
   "metadata": {},
   "outputs": [],
   "source": [
    "bacon = [3.14,'cat',11,'cat',True]"
   ]
  },
  {
   "cell_type": "code",
   "execution_count": 6,
   "id": "cd2be95a",
   "metadata": {},
   "outputs": [
    {
     "data": {
      "text/plain": [
       "1"
      ]
     },
     "execution_count": 6,
     "metadata": {},
     "output_type": "execute_result"
    }
   ],
   "source": [
    "bacon.index('cat')"
   ]
  },
  {
   "cell_type": "markdown",
   "id": "a3ffcb2a",
   "metadata": {},
   "source": [
    "here in bacon.index('cat') will try to search the index no at which cat is present and on finding it, simply return a index 'cat' at which it is present.\n",
    "it will not give the index of next 'cat'"
   ]
  },
  {
   "cell_type": "markdown",
   "id": "7b159051",
   "metadata": {},
   "source": [
    "#### 7. How does bacon.append(99) change the look of the list value in bacon?"
   ]
  },
  {
   "cell_type": "code",
   "execution_count": 7,
   "id": "9b274de2",
   "metadata": {},
   "outputs": [],
   "source": [
    "bacon.append(99)"
   ]
  },
  {
   "cell_type": "code",
   "execution_count": 8,
   "id": "e0309c12",
   "metadata": {},
   "outputs": [
    {
     "data": {
      "text/plain": [
       "[3.14, 'cat', 11, 'cat', True, 99]"
      ]
     },
     "execution_count": 8,
     "metadata": {},
     "output_type": "execute_result"
    }
   ],
   "source": [
    "bacon"
   ]
  },
  {
   "cell_type": "markdown",
   "id": "769b74cb",
   "metadata": {},
   "source": [
    "here bacon.append will simply insert(append) the 99 at the last index of the list"
   ]
  },
  {
   "cell_type": "markdown",
   "id": "f14a11d1",
   "metadata": {},
   "source": [
    "#### 8. How does bacon.remove('cat') change the look of the list in bacon?"
   ]
  },
  {
   "cell_type": "code",
   "execution_count": 9,
   "id": "0a724c05",
   "metadata": {},
   "outputs": [],
   "source": [
    "bacon.remove('cat')"
   ]
  },
  {
   "cell_type": "code",
   "execution_count": 10,
   "id": "2319744f",
   "metadata": {},
   "outputs": [
    {
     "data": {
      "text/plain": [
       "[3.14, 11, 'cat', True, 99]"
      ]
     },
     "execution_count": 10,
     "metadata": {},
     "output_type": "execute_result"
    }
   ],
   "source": [
    "bacon"
   ]
  },
  {
   "cell_type": "markdown",
   "id": "0fa42d1a",
   "metadata": {},
   "source": [
    "`bacon.remove('cat')` will simply remove the cat from the list, and as we can see there were two cat present so remove will try to remove very first found 'cat' from the list"
   ]
  },
  {
   "cell_type": "markdown",
   "id": "1d0fb435",
   "metadata": {},
   "source": [
    "#### 9. What are the list concatenation and list replication operators?"
   ]
  },
  {
   "cell_type": "markdown",
   "id": "4b75c553",
   "metadata": {},
   "source": [
    "1. List concatenation `+` means adding the two different list two form a single list\n",
    "2. List Replication `*` operator means replicating the same list\n",
    "3. for eg:"
   ]
  },
  {
   "cell_type": "code",
   "execution_count": 12,
   "id": "cec64fcb",
   "metadata": {},
   "outputs": [
    {
     "name": "stdout",
     "output_type": "stream",
     "text": [
      "list concatenation of list 1 and list 2  ['varad', 'morde']\n",
      "replication of list1  ['varad', 'varad']\n"
     ]
    }
   ],
   "source": [
    "list1 = [\"varad\"]\n",
    "list2 = [\"morde\"]\n",
    "\n",
    "print(\"list concatenation of list 1 and list 2 \", list1 + list2)\n",
    "print(\"replication of list1 \", list1*2)"
   ]
  },
  {
   "cell_type": "markdown",
   "id": "258bac67",
   "metadata": {},
   "source": [
    "#### 10. What is the difference between the list method append() and insert()?"
   ]
  },
  {
   "cell_type": "markdown",
   "id": "84e8df8a",
   "metadata": {},
   "source": [
    "1. `append()` will add the values at the end of the the list\n",
    "2. `insert()` will insert the values at the position(index) user wants\n",
    "3. for eg:"
   ]
  },
  {
   "cell_type": "code",
   "execution_count": 14,
   "id": "7c570772",
   "metadata": {},
   "outputs": [
    {
     "data": {
      "text/plain": [
       "['varad']"
      ]
     },
     "execution_count": 14,
     "metadata": {},
     "output_type": "execute_result"
    }
   ],
   "source": [
    "list1"
   ]
  },
  {
   "cell_type": "code",
   "execution_count": 15,
   "id": "a5fcd710",
   "metadata": {},
   "outputs": [],
   "source": [
    "list1.append(\"morde\")"
   ]
  },
  {
   "cell_type": "code",
   "execution_count": 16,
   "id": "a469d2f5",
   "metadata": {},
   "outputs": [
    {
     "data": {
      "text/plain": [
       "['varad', 'morde']"
      ]
     },
     "execution_count": 16,
     "metadata": {},
     "output_type": "execute_result"
    }
   ],
   "source": [
    "list1"
   ]
  },
  {
   "cell_type": "code",
   "execution_count": 18,
   "id": "5eb9ac1c",
   "metadata": {},
   "outputs": [],
   "source": [
    "list1.insert(2,'_')"
   ]
  },
  {
   "cell_type": "code",
   "execution_count": 19,
   "id": "5d7c4bb6",
   "metadata": {},
   "outputs": [
    {
     "data": {
      "text/plain": [
       "['varad', 'morde', '_']"
      ]
     },
     "execution_count": 19,
     "metadata": {},
     "output_type": "execute_result"
    }
   ],
   "source": [
    "list1"
   ]
  },
  {
   "cell_type": "markdown",
   "id": "a1930f03",
   "metadata": {},
   "source": [
    "#### 11. what are the two methods for removing items form a list?"
   ]
  },
  {
   "cell_type": "markdown",
   "id": "f3d99eef",
   "metadata": {},
   "source": [
    "the `del` statement and the `remove()` method are the two ways to remove values from a list"
   ]
  },
  {
   "cell_type": "markdown",
   "id": "e65dbaa7",
   "metadata": {},
   "source": [
    "#### 12. Describe how list values and string values are identical"
   ]
  },
  {
   "cell_type": "markdown",
   "id": "ae0f987e",
   "metadata": {},
   "source": [
    "1. In both `list` and `string` can be passed to len() function\n",
    "2. both has Indexes and slicing operations can be done on the both\n",
    "3. `for` loops can be used in both list as well as string\n",
    "4. both can perform concatination opertions."
   ]
  },
  {
   "cell_type": "markdown",
   "id": "66bd3c58",
   "metadata": {},
   "source": [
    "#### 13. What's the difference between tuples and lists?"
   ]
  },
  {
   "cell_type": "markdown",
   "id": "38cfbaae",
   "metadata": {},
   "source": [
    "`list`:\n",
    "\n",
    "1. list are defined inside as `square brackets` `'[ ]'`\n",
    "2. list are `mutable`\n",
    "3. list are `indexable`\n",
    "4. list are `slicable`\n",
    "\n",
    "`Tuples`\n",
    "\n",
    "1. tuples are defined inside a `round parenthesis` `'( )'`\n",
    "2. tuples are `immutable`.\n",
    "3. tuples are `indexables`.\n",
    "4. tuples are `slicable`."
   ]
  },
  {
   "cell_type": "markdown",
   "id": "246ba3da",
   "metadata": {},
   "source": [
    "#### 14. How do you type a tuple value that only contains the integer 42?"
   ]
  },
  {
   "cell_type": "code",
   "execution_count": 22,
   "id": "fa665e59",
   "metadata": {},
   "outputs": [
    {
     "data": {
      "text/plain": [
       "tuple"
      ]
     },
     "execution_count": 22,
     "metadata": {},
     "output_type": "execute_result"
    }
   ],
   "source": [
    "tuple_ = (42,)\n",
    "type(tuple_)"
   ]
  },
  {
   "cell_type": "markdown",
   "id": "0ed75e63",
   "metadata": {},
   "source": [
    "we can give int 42 inside a round parenthesis() and then after the 42 give comma so that the variable get converted into a tuple"
   ]
  },
  {
   "cell_type": "markdown",
   "id": "714e89b7",
   "metadata": {},
   "source": [
    "#### 15. How do you get a list value's tuple form? How do you get a tuple value's list form?"
   ]
  },
  {
   "cell_type": "markdown",
   "id": "a866f357",
   "metadata": {},
   "source": [
    ".To get list value tuple form we can simply pass list inside a tuple and \n",
    "to get a tuple value's list form we can simply pass tuples inside a list\n",
    "\n",
    "for eg"
   ]
  },
  {
   "cell_type": "code",
   "execution_count": 25,
   "id": "50d8253b",
   "metadata": {},
   "outputs": [],
   "source": [
    "list_ = [(3,21,4)]"
   ]
  },
  {
   "cell_type": "code",
   "execution_count": 26,
   "id": "66a441e5",
   "metadata": {},
   "outputs": [
    {
     "data": {
      "text/plain": [
       "[(3, 21, 4)]"
      ]
     },
     "execution_count": 26,
     "metadata": {},
     "output_type": "execute_result"
    }
   ],
   "source": [
    "list_"
   ]
  },
  {
   "cell_type": "code",
   "execution_count": 27,
   "id": "333cfabc",
   "metadata": {},
   "outputs": [],
   "source": [
    "tuple_ = ([3,12,5])"
   ]
  },
  {
   "cell_type": "code",
   "execution_count": 28,
   "id": "883d5473",
   "metadata": {},
   "outputs": [
    {
     "data": {
      "text/plain": [
       "[3, 12, 5]"
      ]
     },
     "execution_count": 28,
     "metadata": {},
     "output_type": "execute_result"
    }
   ],
   "source": [
    "tuple_"
   ]
  },
  {
   "cell_type": "markdown",
   "id": "32f44865",
   "metadata": {},
   "source": [
    "#### 16. Variables that \"contain\" list values are not necessarily lists themselves. Instead, what do they contain?"
   ]
  },
  {
   "cell_type": "markdown",
   "id": "ca8f06a1",
   "metadata": {},
   "source": [
    "They contain reference to list values."
   ]
  },
  {
   "cell_type": "markdown",
   "id": "5f646830",
   "metadata": {},
   "source": [
    "#### 17. How do you distinguish between copy.copy() and copy.deepcopy()?"
   ]
  },
  {
   "cell_type": "markdown",
   "id": "165d3fa5",
   "metadata": {},
   "source": [
    "The `copy.copy()` function will do a shallow copy of a list, while the copy.deepcopy() function will do a deep copy of a list. `copy.deepcopy()` will duplicate any list inside the list."
   ]
  },
  {
   "cell_type": "code",
   "execution_count": null,
   "id": "14c8bada",
   "metadata": {},
   "outputs": [],
   "source": []
  }
 ],
 "metadata": {
  "kernelspec": {
   "display_name": "Python 3 (ipykernel)",
   "language": "python",
   "name": "python3"
  },
  "language_info": {
   "codemirror_mode": {
    "name": "ipython",
    "version": 3
   },
   "file_extension": ".py",
   "mimetype": "text/x-python",
   "name": "python",
   "nbconvert_exporter": "python",
   "pygments_lexer": "ipython3",
   "version": "3.9.13"
  }
 },
 "nbformat": 4,
 "nbformat_minor": 5
}
