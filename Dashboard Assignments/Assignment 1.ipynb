{
 "cells": [
  {
   "cell_type": "markdown",
   "id": "45b8e44e",
   "metadata": {},
   "source": [
    "# Varad Morde Assignment_1"
   ]
  },
  {
   "cell_type": "markdown",
   "id": "925c3d76",
   "metadata": {},
   "source": [
    "#### 1. In the below elements which of them are values or an expression? e.g:- vlaues can be integer or string and expressions will be mathematical operators."
   ]
  },
  {
   "cell_type": "markdown",
   "id": "d7931295",
   "metadata": {},
   "source": [
    "* ==> it is a operator which multiplies to values so we can call it as expression\n",
    "\n",
    "'hello' ==> 'hello' is a string as it is written in single quotes and it is a value.\n",
    "\n",
    "-87.8 ==> it is a value\n",
    "\n",
    "- ==> it is a operator used to subtract values therefore it is an expression\n",
    "\n",
    "/ ==> it is a multiplication operator so it is an expression\n",
    "\n",
    "+ ==> it is a addition operator which add two or more numbers so it is a expression\n",
    "\n",
    "6 ==> it is a value"
   ]
  },
  {
   "cell_type": "markdown",
   "id": "090980ac",
   "metadata": {},
   "source": [
    "#### 2. What is the difference between string and variable?"
   ]
  },
  {
   "cell_type": "markdown",
   "id": "cc8f3cbe",
   "metadata": {},
   "source": [
    "String :- 1. String is a Group of Characters\n",
    "          2. We can create a string by assigning a group of characters to a variable\n",
    "          3. triple double quotes or triple single quotes are useful to extend the string beyond several lines\n",
    "          4. indexing and slicing are the two ways to access a chracters inside a string.\n",
    "          5. example of string: \"Hello iNeuron! I am Varad\"\n",
    "          \n",
    "Variable:- 1. Variables is imagined as a storage box which can store some value\n",
    "           2. for example:- a = 5\n",
    "           3. In above example some memory is allocated with the name 'a' and there the value 5 is stored\n",
    "           4. The values in variables can be updated\n",
    "           5. naming rules to variables:-\n",
    "                          1. variable name must start from a Alphabet(capital/small)\n",
    "                          2. space or digits cannot be assign to a variable name\n",
    "                          3. underscore(_) is allowed for varible name at start,end,middle of variable name\n",
    "           6. any type of values like int,float or a string can be assigned to a any particular variable"
   ]
  },
  {
   "cell_type": "markdown",
   "id": "87cb2dbf",
   "metadata": {},
   "source": [
    "#### 3. Describe three different data types."
   ]
  },
  {
   "cell_type": "markdown",
   "id": "ab6586ba",
   "metadata": {},
   "source": [
    "Three different data types are integer, float and string\n",
    "1. int : i) int data type represents an integer number.\n",
    "         ii) int numbers are the numbers without any decimal point.\n",
    "         iii) for example :- 200,-50, 0, 6548945 etc\n",
    "         iv) a = -3 in this a is called int type variable since it is                    storing -3 which is an integer value\n",
    "2. float:i) float data type represents the floating point numbers.\n",
    "         ii) A floating point number is a number that contains a decimal                point\n",
    "         iii) for example :- 0.5, -2.34, 340.343, 0.0001 etc are called                   floating point numbers.\n",
    "         iv) num = 451.15 in this 'num' is called float type vaiable since              it is storing 451.15 which is an float value\n",
    "3. str  : i) str represents a string data type.\n",
    "          ii) A string is represented by a group of characters\n",
    "          iii) strings are enclosed in single quotes or double quotes\n",
    "          iv) we can also write a string inside a triple double quotes or                 triple single quotes\n",
    "          v) for example: \"hello\", 'hello' or \"\"\"hello\"\"\" or '''hello'''"
   ]
  },
  {
   "cell_type": "markdown",
   "id": "a60569d8",
   "metadata": {},
   "source": [
    "####  4. What is an expression made up of? what do all expressions do?"
   ]
  },
  {
   "cell_type": "markdown",
   "id": "3d7060b9",
   "metadata": {},
   "source": [
    "1. Expressions are made up of operands and operators\n",
    "2. Expressions can do like it can interprete to produce some values\n",
    "2. Expressions can do multiple operations like addition, substraction, multiplication, division and etc\n",
    "for example : a = 1+1\n",
    "              b = 2.2-1\n",
    "              c = 1*2\n",
    "              d = 3/1\n",
    "              e = int(b) + a\n",
    "              f = float(a) + b\n",
    "3. There are also some logical expressions. These type of expressions can result in either True or False"
   ]
  },
  {
   "cell_type": "markdown",
   "id": "183dc6ef",
   "metadata": {},
   "source": [
    "#### 5. This assignment statements, like spam = 10. What is the difference between an expression and statement"
   ]
  },
  {
   "cell_type": "markdown",
   "id": "d9ef6102",
   "metadata": {},
   "source": [
    "Statements:-\n",
    "1. A statement is a group of expressions.\n",
    "2. statements are that you design to carry out a task or an action\n",
    "3. statements can only be declared\n",
    "4. so in above given example spam = 10 is statement where a variable spam is declared with a value 10\n",
    "\n",
    "Expressions:-\n",
    "1. Expressions can be assigned \n",
    "2. Expressions can be used as operands\n",
    "3. Expressions are values or execute to values.\n",
    "4. Expressions can be like : (a+(b*12)-c)/d where a,b,c and d can have any numeric values with the data type like int/float."
   ]
  },
  {
   "cell_type": "markdown",
   "id": "e65c43ea",
   "metadata": {},
   "source": [
    "#### 6. After running the following code, what does the variable vacon contain?"
   ]
  },
  {
   "cell_type": "code",
   "execution_count": 1,
   "id": "42c9f983",
   "metadata": {},
   "outputs": [
    {
     "data": {
      "text/plain": [
       "23"
      ]
     },
     "execution_count": 1,
     "metadata": {},
     "output_type": "execute_result"
    }
   ],
   "source": [
    "bacon = 22\n",
    "bacon + 1"
   ]
  },
  {
   "cell_type": "markdown",
   "id": "8a0731be",
   "metadata": {},
   "source": [
    "so to find what bacon will contain we can simply call the bacon variable and check what does it contain"
   ]
  },
  {
   "cell_type": "code",
   "execution_count": 2,
   "id": "8db76583",
   "metadata": {},
   "outputs": [
    {
     "data": {
      "text/plain": [
       "22"
      ]
     },
     "execution_count": 2,
     "metadata": {},
     "output_type": "execute_result"
    }
   ],
   "source": [
    "bacon"
   ]
  },
  {
   "cell_type": "markdown",
   "id": "7b3db11f",
   "metadata": {},
   "source": [
    "so lets in above example where we assign a value 22 to 'bacon' variable\n",
    "and on next line we increment the value of bacon but we didn't assign that incremented value to bacon variable again so, the bacon variable remains as 22 which was been assigned previusly"
   ]
  },
  {
   "cell_type": "markdown",
   "id": "e16d3bbe",
   "metadata": {},
   "source": [
    "#### 7. What should the value of the following two terms be?\n",
    "##### 'spam' + 'spamspam'\n",
    "##### 'spam' * 3"
   ]
  },
  {
   "cell_type": "markdown",
   "id": "582c7166",
   "metadata": {},
   "source": [
    "In first example 'spam' + 'spamspam' we can see that we are joining or concatinating two strings 'spam' and 'spamspam' so this will result in a single string as 'spamspamspam'"
   ]
  },
  {
   "cell_type": "code",
   "execution_count": 3,
   "id": "9a785701",
   "metadata": {},
   "outputs": [
    {
     "data": {
      "text/plain": [
       "'spamspamspam'"
      ]
     },
     "execution_count": 3,
     "metadata": {},
     "output_type": "execute_result"
    }
   ],
   "source": [
    "'spam' + 'spamspam'"
   ]
  },
  {
   "cell_type": "markdown",
   "id": "f0f32335",
   "metadata": {},
   "source": [
    "In second example we can se 'spam'*3, here the sring 'spam' is been multiply by 3 so it will result in 'spamspamspam'"
   ]
  },
  {
   "cell_type": "code",
   "execution_count": 6,
   "id": "762b7e89",
   "metadata": {},
   "outputs": [
    {
     "data": {
      "text/plain": [
       "'spamspamspam'"
      ]
     },
     "execution_count": 6,
     "metadata": {},
     "output_type": "execute_result"
    }
   ],
   "source": [
    "'spam' * 3"
   ]
  },
  {
   "cell_type": "markdown",
   "id": "0f32c7df",
   "metadata": {},
   "source": [
    "#### 8. Why is eggs a vaiid variable name while 100 is invalid?"
   ]
  },
  {
   "cell_type": "markdown",
   "id": "7713494f",
   "metadata": {},
   "source": [
    "In python variables have predefined rules for assigning a name to a variable.\n",
    "This rules says:\n",
    "                1. Variable names can be start with a alphabets\n",
    "                2. variable can have names as alphanumeric where alphabet as a name should come first\n",
    "                3. variable can have _ as a starting letter to a variable name\n",
    "                4. variable name cannot be a digit\n",
    "\n",
    "So, by following the upper rules we can assign a variables a specific names\n",
    "\n",
    "Therefore we can also get a conclusion that as variable name cannot be a digit so 100 will be an invalid variable name it will give a error\n",
    "\n",
    "for eg look into below cell"
   ]
  },
  {
   "cell_type": "code",
   "execution_count": 8,
   "id": "e74f6f0c",
   "metadata": {},
   "outputs": [
    {
     "ename": "SyntaxError",
     "evalue": "cannot assign to literal (257195099.py, line 1)",
     "output_type": "error",
     "traceback": [
      "\u001b[1;36m  File \u001b[1;32m\"C:\\Users\\Varad Rajesh Morde\\AppData\\Local\\Temp\\ipykernel_33960\\257195099.py\"\u001b[1;36m, line \u001b[1;32m1\u001b[0m\n\u001b[1;33m    100 = 12\u001b[0m\n\u001b[1;37m    ^\u001b[0m\n\u001b[1;31mSyntaxError\u001b[0m\u001b[1;31m:\u001b[0m cannot assign to literal\n"
     ]
    }
   ],
   "source": [
    "100 = 12"
   ]
  },
  {
   "cell_type": "markdown",
   "id": "ffe18b51",
   "metadata": {},
   "source": [
    "#### What three functions can be used to get the integer, floating-point number, or string version of a value?"
   ]
  },
  {
   "cell_type": "markdown",
   "id": "4f45c3d6",
   "metadata": {},
   "source": [
    "The int(), float(), and str() will evaluate the integer, floating-point numbers, and string values when passed in this functions\n",
    "\n",
    "for eg look into the below cell"
   ]
  },
  {
   "cell_type": "code",
   "execution_count": 12,
   "id": "f471e542",
   "metadata": {},
   "outputs": [
    {
     "name": "stdout",
     "output_type": "stream",
     "text": [
      "<class 'int'>\n",
      "<class 'float'>\n",
      "<class 'str'>\n"
     ]
    }
   ],
   "source": [
    "a = 10.2             # here a is a float variable\n",
    "b = 312              # here b is a int variable\n",
    "\n",
    "# but when we use int(),float(), str()\n",
    "\n",
    "print(type(int(a)))        # we can see when we use int() a get typecast into int\n",
    "print(type(float(b)))      # we can see when we use int() a get typecast into float\n",
    "print(type(str(b)))        # we can see when we use int() a get typecast into str"
   ]
  },
  {
   "cell_type": "markdown",
   "id": "a3b702dc",
   "metadata": {},
   "source": [
    "#### Why does this expression cause an error? How can you fix it?\n",
    "#### 'I have eaten' + 99 + 'burritos.'"
   ]
  },
  {
   "cell_type": "markdown",
   "id": "155b6b33",
   "metadata": {},
   "source": [
    "The abobe expression is giving error because\n",
    "1. 'I have eaten' and 'burritos.' are two diffirent strings\n",
    "but\n",
    "2. 99 is a integer value\n",
    "3. so we are trying to cancatinate two strings and one integer which is not possible it will through an error\n",
    "4. so to do this we need to type cast the 99 into string.\n",
    "5. so after typecasting it into string it will be easier to concatinate all string"
   ]
  },
  {
   "cell_type": "code",
   "execution_count": 17,
   "id": "80e1adeb",
   "metadata": {},
   "outputs": [
    {
     "data": {
      "text/plain": [
       "'I have eaten99burritos'"
      ]
     },
     "execution_count": 17,
     "metadata": {},
     "output_type": "execute_result"
    }
   ],
   "source": [
    "'I have eaten' + str( 99 ) + 'burritos'"
   ]
  },
  {
   "cell_type": "markdown",
   "id": "48d92567",
   "metadata": {},
   "source": [
    "so we can see now the strings are been concatinated but their is no space in eaten99burritos so here we can give space after the 'I have eaten ' and ' burritos' so that the all three words will have space in between them"
   ]
  },
  {
   "cell_type": "code",
   "execution_count": 18,
   "id": "c65fc2c3",
   "metadata": {},
   "outputs": [
    {
     "data": {
      "text/plain": [
       "'I have eaten 99 burritos'"
      ]
     },
     "execution_count": 18,
     "metadata": {},
     "output_type": "execute_result"
    }
   ],
   "source": [
    "'I have eaten ' + str(99) + ' burritos'"
   ]
  },
  {
   "cell_type": "code",
   "execution_count": null,
   "id": "08b3fc8a",
   "metadata": {},
   "outputs": [],
   "source": []
  }
 ],
 "metadata": {
  "kernelspec": {
   "display_name": "Python 3 (ipykernel)",
   "language": "python",
   "name": "python3"
  },
  "language_info": {
   "codemirror_mode": {
    "name": "ipython",
    "version": 3
   },
   "file_extension": ".py",
   "mimetype": "text/x-python",
   "name": "python",
   "nbconvert_exporter": "python",
   "pygments_lexer": "ipython3",
   "version": "3.9.13"
  }
 },
 "nbformat": 4,
 "nbformat_minor": 5
}
