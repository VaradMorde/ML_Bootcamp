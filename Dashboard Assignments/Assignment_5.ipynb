{
 "cells": [
  {
   "cell_type": "markdown",
   "id": "313acfca",
   "metadata": {},
   "source": [
    "## Varad Morde Assignment 5"
   ]
  },
  {
   "cell_type": "markdown",
   "id": "c3b52ed9",
   "metadata": {},
   "source": [
    "#### 1. What does an empty dictionary's code look like?"
   ]
  },
  {
   "cell_type": "code",
   "execution_count": 1,
   "id": "a398b1d5",
   "metadata": {},
   "outputs": [],
   "source": [
    "d = {}"
   ]
  },
  {
   "cell_type": "code",
   "execution_count": 2,
   "id": "ba49bf56",
   "metadata": {},
   "outputs": [
    {
     "name": "stdout",
     "output_type": "stream",
     "text": [
      "<class 'dict'>\n",
      "{}\n"
     ]
    }
   ],
   "source": [
    "print(type(d))\n",
    "print(d)"
   ]
  },
  {
   "cell_type": "markdown",
   "id": "e88b6cfe",
   "metadata": {},
   "source": [
    "We can see in above cell so by just difining `d = {}` gives us a empty dictionary"
   ]
  },
  {
   "cell_type": "markdown",
   "id": "747ca818",
   "metadata": {},
   "source": [
    "#### 2. What is the value of a dictionary value with the key 'foo' and the value 42?"
   ]
  },
  {
   "cell_type": "code",
   "execution_count": 3,
   "id": "b68d179c",
   "metadata": {},
   "outputs": [],
   "source": [
    "d = {'foo' : 42}"
   ]
  },
  {
   "cell_type": "code",
   "execution_count": 4,
   "id": "2d55feb0",
   "metadata": {},
   "outputs": [
    {
     "data": {
      "text/plain": [
       "{'foo': 42}"
      ]
     },
     "execution_count": 4,
     "metadata": {},
     "output_type": "execute_result"
    }
   ],
   "source": [
    "d"
   ]
  },
  {
   "cell_type": "markdown",
   "id": "5b224929",
   "metadata": {},
   "source": [
    "we can see value of dicitonary value with the key 'foo' and the value 42 is `{'foo':42}`"
   ]
  },
  {
   "cell_type": "markdown",
   "id": "bb225db2",
   "metadata": {},
   "source": [
    "#### 3. What is the most significant distiction between a dictionary and a list?"
   ]
  },
  {
   "cell_type": "markdown",
   "id": "f37e50f7",
   "metadata": {},
   "source": [
    "`Dictionary` : Dictionary are represented by `{}` and Dictionary are unordered with key and value pairs\n",
    "\n",
    "`list` : list is represented by `[]` and items in list are ordered"
   ]
  },
  {
   "cell_type": "markdown",
   "id": "1b9494cf",
   "metadata": {},
   "source": [
    "#### 4. What happens if you try to access spam['foo'] if spam is {'bar':100}?"
   ]
  },
  {
   "cell_type": "code",
   "execution_count": 5,
   "id": "0462ebbe",
   "metadata": {},
   "outputs": [],
   "source": [
    "spam = {'bar':100}"
   ]
  },
  {
   "cell_type": "markdown",
   "id": "9629a354",
   "metadata": {},
   "source": [
    "so when we try to acces `spam['foo']` it will generate a `KeyError`"
   ]
  },
  {
   "cell_type": "code",
   "execution_count": 6,
   "id": "6e03defe",
   "metadata": {},
   "outputs": [
    {
     "ename": "KeyError",
     "evalue": "'foo'",
     "output_type": "error",
     "traceback": [
      "\u001b[1;31m---------------------------------------------------------------------------\u001b[0m",
      "\u001b[1;31mKeyError\u001b[0m                                  Traceback (most recent call last)",
      "\u001b[1;32m~\\AppData\\Local\\Temp\\ipykernel_11672\\3999281786.py\u001b[0m in \u001b[0;36m<module>\u001b[1;34m\u001b[0m\n\u001b[1;32m----> 1\u001b[1;33m \u001b[0mspam\u001b[0m\u001b[1;33m[\u001b[0m\u001b[1;34m'foo'\u001b[0m\u001b[1;33m]\u001b[0m\u001b[1;33m\u001b[0m\u001b[1;33m\u001b[0m\u001b[0m\n\u001b[0m",
      "\u001b[1;31mKeyError\u001b[0m: 'foo'"
     ]
    }
   ],
   "source": [
    "spam['foo']"
   ]
  },
  {
   "cell_type": "markdown",
   "id": "4e0d8c78",
   "metadata": {},
   "source": [
    "#### 5. If a dictionary is stored in spam, what is the difference between the expressions 'cat' in spam and 'cat' in spam.values?"
   ]
  },
  {
   "cell_type": "markdown",
   "id": "1973b81d",
   "metadata": {},
   "source": [
    "There is no difference between expressions 'cat' in spam and 'cat' in spam.values \n",
    "\n",
    "Because operation will just try to check whether the value exists as a key in the dictionary or not"
   ]
  },
  {
   "cell_type": "markdown",
   "id": "95510266",
   "metadata": {},
   "source": [
    "#### 6. If a dictionary is stored in spam, what is the difference between the expressions 'cat' in spam and 'cat' in spam.values()?"
   ]
  },
  {
   "cell_type": "markdown",
   "id": "0c43c1c3",
   "metadata": {},
   "source": [
    "'cat' in spam checks whether there is a 'cat' key in the dictionary.\n",
    "\n",
    "And 'cat' in spam.values() will check if there is a value 'cat' for one of the keys in spam"
   ]
  },
  {
   "cell_type": "markdown",
   "id": "61aef2b9",
   "metadata": {},
   "source": [
    "#### 7. What is shortcut for the following code?\n",
    "`if 'color' not in spam:`\n",
    " \n",
    " `spam ['color'] = 'black'`"
   ]
  },
  {
   "cell_type": "markdown",
   "id": "cb1155a7",
   "metadata": {},
   "source": [
    "spam.setdefault('color','black')"
   ]
  },
  {
   "cell_type": "markdown",
   "id": "287999de",
   "metadata": {},
   "source": [
    "#### 8. How do you \"pretty print\" dictionary values using which module and function?"
   ]
  },
  {
   "cell_type": "markdown",
   "id": "cfe195f5",
   "metadata": {},
   "source": [
    "we can use dumps() method of json module\n",
    "\n",
    "and by using dumps() method in yaml module"
   ]
  },
  {
   "cell_type": "code",
   "execution_count": null,
   "id": "8503e14e",
   "metadata": {},
   "outputs": [],
   "source": []
  }
 ],
 "metadata": {
  "kernelspec": {
   "display_name": "Python 3 (ipykernel)",
   "language": "python",
   "name": "python3"
  },
  "language_info": {
   "codemirror_mode": {
    "name": "ipython",
    "version": 3
   },
   "file_extension": ".py",
   "mimetype": "text/x-python",
   "name": "python",
   "nbconvert_exporter": "python",
   "pygments_lexer": "ipython3",
   "version": "3.9.13"
  }
 },
 "nbformat": 4,
 "nbformat_minor": 5
}
