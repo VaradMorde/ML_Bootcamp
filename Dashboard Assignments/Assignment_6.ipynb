{
 "cells": [
  {
   "cell_type": "markdown",
   "id": "3ab8d35d",
   "metadata": {},
   "source": [
    "# Varad Rajesh Morde Assignment 6"
   ]
  },
  {
   "cell_type": "markdown",
   "id": "79ddc2bd",
   "metadata": {},
   "source": [
    "#### 1. What are escape characters, and how do you use them?"
   ]
  },
  {
   "cell_type": "markdown",
   "id": "0e184422",
   "metadata": {},
   "source": [
    "Escape characters are a special character used in the form of `backslash` `(\\)`"
   ]
  },
  {
   "cell_type": "markdown",
   "id": "002c4c3a",
   "metadata": {},
   "source": [
    "We can use them by using a character after backslash for example `\\t`"
   ]
  },
  {
   "cell_type": "markdown",
   "id": "b45778a2",
   "metadata": {},
   "source": [
    "#### 2. What do the escape characters n and t stand for?"
   ]
  },
  {
   "cell_type": "markdown",
   "id": "b4f34047",
   "metadata": {},
   "source": [
    "`\\n` stands for `newline` whereas `\\t` stands for a single `tab(4spaces)` "
   ]
  },
  {
   "cell_type": "markdown",
   "id": "db3fcd6a",
   "metadata": {},
   "source": [
    "#### 3. What is the way to include backslash characters in a string?"
   ]
  },
  {
   "cell_type": "code",
   "execution_count": 8,
   "id": "b11de6ee",
   "metadata": {},
   "outputs": [
    {
     "name": "stdout",
     "output_type": "stream",
     "text": [
      "hello \t world!, I am \t Varad\n"
     ]
    }
   ],
   "source": [
    "print(\"hello \\t world!, I am \\t Varad\")"
   ]
  },
  {
   "cell_type": "markdown",
   "id": "61b865e2",
   "metadata": {},
   "source": [
    "We can use backslash `\\` and a letter following it `i.e` `\\t`\n",
    "\n",
    "for example in above cell we can see we have included a backslash and letter t to give a tab inside a string."
   ]
  },
  {
   "cell_type": "markdown",
   "id": "0300a71f",
   "metadata": {},
   "source": [
    "#### 4. The string \"Howl's Moving Castle\" is a correct value. Why isn't the single quote character in the word Howl's not escaped a problem?"
   ]
  },
  {
   "cell_type": "markdown",
   "id": "d02c0c65",
   "metadata": {},
   "source": [
    "\"Howl's Moving Castle\" this whole string is wrapped inside a double quotes, if this whole string is in single quote then we can use a escape charater `\\'` to show escaped character inside a problem"
   ]
  },
  {
   "cell_type": "markdown",
   "id": "2134ece5",
   "metadata": {},
   "source": [
    "for eg"
   ]
  },
  {
   "cell_type": "code",
   "execution_count": 9,
   "id": "a5304be6",
   "metadata": {},
   "outputs": [
    {
     "data": {
      "text/plain": [
       "\"Howl's moving Castle\""
      ]
     },
     "execution_count": 9,
     "metadata": {},
     "output_type": "execute_result"
    }
   ],
   "source": [
    "'Howl\\'s moving Castle'"
   ]
  },
  {
   "cell_type": "markdown",
   "id": "f2b7a055",
   "metadata": {},
   "source": [
    "#### 5. How do you write a string of newlines if you don't want to use the n character?"
   ]
  },
  {
   "cell_type": "markdown",
   "id": "aa79c734",
   "metadata": {},
   "source": [
    "If we dont want to use n character inside a string to start on new line then we can use multiline comment\n",
    "\n",
    "we can use triple single quotes`'''____'''` or we can use triple double quotes `\"\"\"____\"\"\"`  "
   ]
  },
  {
   "cell_type": "code",
   "execution_count": 12,
   "id": "f0f584e0",
   "metadata": {},
   "outputs": [
    {
     "name": "stdout",
     "output_type": "stream",
     "text": [
      "Hello \n",
      "I\n",
      "am\n",
      "Varad\n",
      "Morde\n"
     ]
    }
   ],
   "source": [
    "a = \"\"\"Hello \n",
    "I\n",
    "am\n",
    "Varad\n",
    "Morde\"\"\"\n",
    "print(a)"
   ]
  },
  {
   "cell_type": "markdown",
   "id": "6833b55c",
   "metadata": {},
   "source": [
    "#### 6. What are the values of the given expressions?\n",
    "`'Hello, world!'[1]`  # 'e'\n",
    "\n",
    "`'Hello, world!'[0:5]` # 'Hello'\n",
    "\n",
    "`'Hello, world!'[:5]`  # 'Hello'\n",
    "\n",
    "`'Hello, world!'[3:]`  # 'lo, world!'"
   ]
  },
  {
   "cell_type": "code",
   "execution_count": 17,
   "id": "768a97cb",
   "metadata": {},
   "outputs": [
    {
     "data": {
      "text/plain": [
       "'e'"
      ]
     },
     "execution_count": 17,
     "metadata": {},
     "output_type": "execute_result"
    }
   ],
   "source": [
    "'Hello, world!'[1]"
   ]
  },
  {
   "cell_type": "code",
   "execution_count": 18,
   "id": "911c6264",
   "metadata": {},
   "outputs": [
    {
     "data": {
      "text/plain": [
       "'Hello'"
      ]
     },
     "execution_count": 18,
     "metadata": {},
     "output_type": "execute_result"
    }
   ],
   "source": [
    "'Hello, world!'[0:5]"
   ]
  },
  {
   "cell_type": "code",
   "execution_count": 19,
   "id": "5b3c371b",
   "metadata": {},
   "outputs": [
    {
     "data": {
      "text/plain": [
       "'Hello'"
      ]
     },
     "execution_count": 19,
     "metadata": {},
     "output_type": "execute_result"
    }
   ],
   "source": [
    "'Hello, world!'[:5]"
   ]
  },
  {
   "cell_type": "code",
   "execution_count": 20,
   "id": "43eb3bc8",
   "metadata": {},
   "outputs": [
    {
     "data": {
      "text/plain": [
       "'lo, world!'"
      ]
     },
     "execution_count": 20,
     "metadata": {},
     "output_type": "execute_result"
    }
   ],
   "source": [
    "'Hello, world!'[3:]"
   ]
  },
  {
   "cell_type": "markdown",
   "id": "1dd7b097",
   "metadata": {},
   "source": [
    "#### 7. What are the values of the following expressions?\n",
    "`'Hello'.upper()`\n",
    "\n",
    "`'Hello'.upper().isupper()`\n",
    "\n",
    "`'Hello'.upper().lower()`"
   ]
  },
  {
   "cell_type": "code",
   "execution_count": 22,
   "id": "d67577a3",
   "metadata": {},
   "outputs": [
    {
     "data": {
      "text/plain": [
       "'HELLO'"
      ]
     },
     "execution_count": 22,
     "metadata": {},
     "output_type": "execute_result"
    }
   ],
   "source": [
    "'Hello'.upper() #convert entire string into upper case"
   ]
  },
  {
   "cell_type": "code",
   "execution_count": 23,
   "id": "978f7cc5",
   "metadata": {},
   "outputs": [
    {
     "ename": "AttributeError",
     "evalue": "'str' object has no attribute 'isuppper'",
     "output_type": "error",
     "traceback": [
      "\u001b[1;31m---------------------------------------------------------------------------\u001b[0m",
      "\u001b[1;31mAttributeError\u001b[0m                            Traceback (most recent call last)",
      "\u001b[1;32m~\\AppData\\Local\\Temp\\ipykernel_12936\\3474650313.py\u001b[0m in \u001b[0;36m<module>\u001b[1;34m\u001b[0m\n\u001b[1;32m----> 1\u001b[1;33m \u001b[1;34m'Hello'\u001b[0m\u001b[1;33m.\u001b[0m\u001b[0mupper\u001b[0m\u001b[1;33m(\u001b[0m\u001b[1;33m)\u001b[0m\u001b[1;33m.\u001b[0m\u001b[0misuppper\u001b[0m\u001b[1;33m(\u001b[0m\u001b[1;33m)\u001b[0m\u001b[1;33m\u001b[0m\u001b[1;33m\u001b[0m\u001b[0m\n\u001b[0m",
      "\u001b[1;31mAttributeError\u001b[0m: 'str' object has no attribute 'isuppper'"
     ]
    }
   ],
   "source": [
    "'Hello'.upper().isuppper()"
   ]
  },
  {
   "cell_type": "code",
   "execution_count": 26,
   "id": "b2fb6627",
   "metadata": {},
   "outputs": [
    {
     "data": {
      "text/plain": [
       "'hello'"
      ]
     },
     "execution_count": 26,
     "metadata": {},
     "output_type": "execute_result"
    }
   ],
   "source": [
    "'Hello'.upper().lower() # convert entire string first into upper case and then again convert back to lower case"
   ]
  },
  {
   "cell_type": "markdown",
   "id": "988f6dfb",
   "metadata": {},
   "source": [
    "#### 8. What are the values of the following expressions?\n",
    "\n",
    "`'Remember,remember,the fifth of july.'.split()`\n",
    "\n",
    "`'-'.join('There can only one'.split())`"
   ]
  },
  {
   "cell_type": "code",
   "execution_count": 27,
   "id": "1104e29b",
   "metadata": {},
   "outputs": [
    {
     "data": {
      "text/plain": [
       "['Remember,', 'remember,', 'the', 'fifth', 'of', 'july.']"
      ]
     },
     "execution_count": 27,
     "metadata": {},
     "output_type": "execute_result"
    }
   ],
   "source": [
    "'Remember, remember, the fifth of july.'.split()"
   ]
  },
  {
   "cell_type": "markdown",
   "id": "73d6fcae",
   "metadata": {},
   "source": [
    "the above split method will `split` the entire string into a list based on a default `sep` as a space"
   ]
  },
  {
   "cell_type": "code",
   "execution_count": 28,
   "id": "6a0b0be1",
   "metadata": {},
   "outputs": [
    {
     "data": {
      "text/plain": [
       "'There-can-only-one.'"
      ]
     },
     "execution_count": 28,
     "metadata": {},
     "output_type": "execute_result"
    }
   ],
   "source": [
    "'-'.join('There can only one.'.split())"
   ]
  },
  {
   "cell_type": "markdown",
   "id": "1d4ae428",
   "metadata": {},
   "source": [
    "the string will get `splited` with a sep as a space and this splited string will get join as we have passes this splitted string inside a `join method` and `'-'` as a joining sep between them"
   ]
  },
  {
   "cell_type": "markdown",
   "id": "4e0f98a5",
   "metadata": {},
   "source": [
    "#### 9. What are the methods for right-justifying, left-justifying, and centering a string?"
   ]
  },
  {
   "cell_type": "markdown",
   "id": "6131e206",
   "metadata": {},
   "source": [
    "for right-justifying `rjust()`, left-justifying `ljust()` and for center `center()` methods are used for a string"
   ]
  },
  {
   "cell_type": "markdown",
   "id": "90b73651",
   "metadata": {},
   "source": [
    "#### 10. What is the best way to remove whitespace characters from the start or end?"
   ]
  },
  {
   "cell_type": "markdown",
   "id": "614665af",
   "metadata": {},
   "source": [
    "`lstrip()` and `rstrip()` methods are used to remove whitespaces characters from the start or end of the string"
   ]
  }
 ],
 "metadata": {
  "kernelspec": {
   "display_name": "Python 3 (ipykernel)",
   "language": "python",
   "name": "python3"
  },
  "language_info": {
   "codemirror_mode": {
    "name": "ipython",
    "version": 3
   },
   "file_extension": ".py",
   "mimetype": "text/x-python",
   "name": "python",
   "nbconvert_exporter": "python",
   "pygments_lexer": "ipython3",
   "version": "3.9.13"
  }
 },
 "nbformat": 4,
 "nbformat_minor": 5
}
