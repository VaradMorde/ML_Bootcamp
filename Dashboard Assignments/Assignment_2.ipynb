{
 "cells": [
  {
   "cell_type": "markdown",
   "id": "a01df8fc",
   "metadata": {},
   "source": [
    "## Varad Morde Assignment_2"
   ]
  },
  {
   "cell_type": "markdown",
   "id": "bb6b2ad9",
   "metadata": {},
   "source": [
    "#### 1. What are the two values of the Boolean data type? How do you write them?"
   ]
  },
  {
   "cell_type": "markdown",
   "id": "98e1f012",
   "metadata": {},
   "source": [
    "`True` and `False` are the two values of the Boolean data types.\n",
    "We write them in the way as Capital T and F in the starting of True and False and rest small or lower case letter"
   ]
  },
  {
   "cell_type": "code",
   "execution_count": 3,
   "id": "904bdf38",
   "metadata": {},
   "outputs": [
    {
     "data": {
      "text/plain": [
       "(True, bool)"
      ]
     },
     "execution_count": 3,
     "metadata": {},
     "output_type": "execute_result"
    }
   ],
   "source": [
    "True, type(True)"
   ]
  },
  {
   "cell_type": "code",
   "execution_count": 4,
   "id": "c3a99ba0",
   "metadata": {},
   "outputs": [
    {
     "data": {
      "text/plain": [
       "(False, bool)"
      ]
     },
     "execution_count": 4,
     "metadata": {},
     "output_type": "execute_result"
    }
   ],
   "source": [
    "False, type(False)"
   ]
  },
  {
   "cell_type": "markdown",
   "id": "02feb2ba",
   "metadata": {},
   "source": [
    "#### 2. What are the three different types of Boolean operators?"
   ]
  },
  {
   "cell_type": "markdown",
   "id": "32b4238a",
   "metadata": {},
   "source": [
    "`and`,`or`, `not` are the three types of boolean operators"
   ]
  },
  {
   "cell_type": "code",
   "execution_count": 5,
   "id": "9f3e3fc8",
   "metadata": {},
   "outputs": [
    {
     "data": {
      "text/plain": [
       "True"
      ]
     },
     "execution_count": 5,
     "metadata": {},
     "output_type": "execute_result"
    }
   ],
   "source": [
    "True and True"
   ]
  },
  {
   "cell_type": "code",
   "execution_count": 6,
   "id": "3043da88",
   "metadata": {},
   "outputs": [
    {
     "data": {
      "text/plain": [
       "False"
      ]
     },
     "execution_count": 6,
     "metadata": {},
     "output_type": "execute_result"
    }
   ],
   "source": [
    "not True"
   ]
  },
  {
   "cell_type": "code",
   "execution_count": 7,
   "id": "2c0848eb",
   "metadata": {},
   "outputs": [
    {
     "data": {
      "text/plain": [
       "False"
      ]
     },
     "execution_count": 7,
     "metadata": {},
     "output_type": "execute_result"
    }
   ],
   "source": [
    "False or False"
   ]
  },
  {
   "cell_type": "markdown",
   "id": "55b07cfd",
   "metadata": {},
   "source": [
    "#### 3. Make a list of each Boolean operator's truth tables (i.e. every possible combination of boolean balues for the operator and what it evaluate)."
   ]
  },
  {
   "cell_type": "markdown",
   "id": "57cf7075",
   "metadata": {},
   "source": [
    "The Truth table for Boolean operator's truth table:"
   ]
  },
  {
   "cell_type": "markdown",
   "id": "69f6075b",
   "metadata": {},
   "source": [
    "Truth table for \"and\" operator"
   ]
  },
  {
   "cell_type": "markdown",
   "id": "f4e98e00",
   "metadata": {},
   "source": [
    "* True and True = True\n",
    "\n",
    "* True and False = False\n",
    "\n",
    "* False and True = False\n",
    "\n",
    "* False and False = False"
   ]
  },
  {
   "cell_type": "markdown",
   "id": "bc41cefd",
   "metadata": {},
   "source": [
    "Truth table for \"or\" operator"
   ]
  },
  {
   "cell_type": "markdown",
   "id": "7751a5f3",
   "metadata": {},
   "source": [
    "* True or True = True\n",
    "* True or False = True\n",
    "* False or True = True\n",
    "* False or False = False"
   ]
  },
  {
   "cell_type": "markdown",
   "id": "664612ec",
   "metadata": {},
   "source": [
    "Truth table for not operator"
   ]
  },
  {
   "cell_type": "code",
   "execution_count": 10,
   "id": "ed842bf2",
   "metadata": {},
   "outputs": [
    {
     "data": {
      "text/plain": [
       "False"
      ]
     },
     "execution_count": 10,
     "metadata": {},
     "output_type": "execute_result"
    }
   ],
   "source": [
    "not True"
   ]
  },
  {
   "cell_type": "code",
   "execution_count": 11,
   "id": "8be3a3a2",
   "metadata": {},
   "outputs": [
    {
     "data": {
      "text/plain": [
       "True"
      ]
     },
     "execution_count": 11,
     "metadata": {},
     "output_type": "execute_result"
    }
   ],
   "source": [
    "not False"
   ]
  },
  {
   "cell_type": "code",
   "execution_count": null,
   "id": "e5d96a1a",
   "metadata": {},
   "outputs": [],
   "source": []
  },
  {
   "cell_type": "markdown",
   "id": "d9777083",
   "metadata": {},
   "source": [
    "#### 4. What are the values of the following expressions?"
   ]
  },
  {
   "cell_type": "markdown",
   "id": "e612381c",
   "metadata": {},
   "source": [
    "* (5 > 4) and (3 == 5)\n",
    "* not (5 > 4)\n",
    "* (5 > 4) or (3 == 5)\n",
    "* not ((5 > 4) or (3 == 5))\n",
    "* (True and True) and (True  == False)\n",
    "* (not False) or (not True) \n"
   ]
  },
  {
   "cell_type": "code",
   "execution_count": 1,
   "id": "d5de0323",
   "metadata": {},
   "outputs": [
    {
     "name": "stdout",
     "output_type": "stream",
     "text": [
      "False\n"
     ]
    }
   ],
   "source": [
    "print((5>4)and(3==5)) "
   ]
  },
  {
   "cell_type": "code",
   "execution_count": 2,
   "id": "cfbdaee0",
   "metadata": {},
   "outputs": [
    {
     "name": "stdout",
     "output_type": "stream",
     "text": [
      "True\n"
     ]
    }
   ],
   "source": [
    "print(not(5>5))"
   ]
  },
  {
   "cell_type": "code",
   "execution_count": 3,
   "id": "def0ac8f",
   "metadata": {},
   "outputs": [
    {
     "name": "stdout",
     "output_type": "stream",
     "text": [
      "True\n"
     ]
    }
   ],
   "source": [
    "print((5>4) or (3 == 5))"
   ]
  },
  {
   "cell_type": "code",
   "execution_count": 4,
   "id": "713d3777",
   "metadata": {},
   "outputs": [
    {
     "name": "stdout",
     "output_type": "stream",
     "text": [
      "False\n"
     ]
    }
   ],
   "source": [
    "print(not((5 > 4) or (3 == 5)))"
   ]
  },
  {
   "cell_type": "code",
   "execution_count": 5,
   "id": "5debe5ae",
   "metadata": {},
   "outputs": [
    {
     "name": "stdout",
     "output_type": "stream",
     "text": [
      "False\n"
     ]
    }
   ],
   "source": [
    "print((True and True) and (True == False))"
   ]
  },
  {
   "cell_type": "code",
   "execution_count": 6,
   "id": "c28899d7",
   "metadata": {},
   "outputs": [
    {
     "name": "stdout",
     "output_type": "stream",
     "text": [
      "True\n"
     ]
    }
   ],
   "source": [
    "print((not False) or (not True))"
   ]
  },
  {
   "cell_type": "markdown",
   "id": "9ced70ac",
   "metadata": {},
   "source": [
    "#### 5. What are the six comparison operators?"
   ]
  },
  {
   "cell_type": "markdown",
   "id": "3f64db73",
   "metadata": {},
   "source": [
    "The six comparison operators available in python are\n",
    "`==`, `1=`, `<`, `>`, `<=`, `>=`"
   ]
  },
  {
   "cell_type": "markdown",
   "id": "38fcc6a9",
   "metadata": {},
   "source": [
    "#### 6. How do you tell the difference between the equal to and assignment operators? Describe a conditin and when you would use one?"
   ]
  },
  {
   "cell_type": "markdown",
   "id": "95250e8c",
   "metadata": {},
   "source": [
    "We can differentiate the equal to operator and assignments operator as:\n",
    "\n",
    "1. `==` is the equal to operator and whereas `=` is the assignment operator\n",
    "2. `==` is used to compare two values `=` is used to store or assign a value to a variable.\n",
    "3. for example :"
   ]
  },
  {
   "cell_type": "code",
   "execution_count": 7,
   "id": "8e2f74f5",
   "metadata": {},
   "outputs": [],
   "source": [
    "varad = \"Varad\""
   ]
  },
  {
   "cell_type": "markdown",
   "id": "bbe2f7a0",
   "metadata": {},
   "source": [
    "In above cell \"Varad\" is a string which is assigned to a variable named as varad by `=` operator"
   ]
  },
  {
   "cell_type": "code",
   "execution_count": 11,
   "id": "4685ad77",
   "metadata": {},
   "outputs": [
    {
     "name": "stdout",
     "output_type": "stream",
     "text": [
      "Varad\n"
     ]
    }
   ],
   "source": [
    "if varad == \"Varad\":\n",
    "    print(varad)"
   ]
  },
  {
   "cell_type": "markdown",
   "id": "198f42c9",
   "metadata": {},
   "source": [
    "Here in above cell we can see we are comparing if \"Varad\" is assigned to varad by `==`(equal to) if true then we print varad"
   ]
  },
  {
   "cell_type": "markdown",
   "id": "ff0529d5",
   "metadata": {},
   "source": [
    "#### 7. Identify the three blocks in this code:"
   ]
  },
  {
   "cell_type": "markdown",
   "id": "a124a8a5",
   "metadata": {},
   "source": [
    "spam = 0\n",
    "\n",
    "if spam == 10;\n",
    "\n",
    "print('eggs')\n",
    "\n",
    "if spam > 5;\n",
    "\n",
    "print('bacon')\n",
    "\n",
    "else:\n",
    "\n",
    "print('ham')\n",
    "\n",
    "print('spam')\n",
    "\n",
    "print('spam')"
   ]
  },
  {
   "cell_type": "markdown",
   "id": "09d6606c",
   "metadata": {},
   "source": [
    "**Ans** : In python, block is refer to a collection of code that is in the same indent(4spaces).\n",
    "\n",
    "for example `if-else`, `loops`"
   ]
  },
  {
   "cell_type": "code",
   "execution_count": 13,
   "id": "9ebb7824",
   "metadata": {},
   "outputs": [
    {
     "name": "stdout",
     "output_type": "stream",
     "text": [
      "ham\n",
      "spam\n",
      "spam\n"
     ]
    }
   ],
   "source": [
    "spam = 0\n",
    "if spam == 10:\n",
    "    print('eggs')     # this is the first block because it is indented inside if statement\n",
    "if spam > 5:\n",
    "    print('bacon')    # this is the second block\n",
    "else:\n",
    "    print('ham')      # this is the third block\n",
    "    print('spam')\n",
    "    print('spam')"
   ]
  },
  {
   "cell_type": "markdown",
   "id": "4885f792",
   "metadata": {},
   "source": [
    "#### 8.  Write code that prints Hello if 1 is stored in spam, prints Howdy if 2 is stored in spam, and prints Greetings! if anything else is strored in spam"
   ]
  },
  {
   "cell_type": "code",
   "execution_count": 14,
   "id": "a8722993",
   "metadata": {},
   "outputs": [
    {
     "name": "stdout",
     "output_type": "stream",
     "text": [
      "Hello\n",
      "Howdy\n",
      "Greetings\n"
     ]
    }
   ],
   "source": [
    "def Spam(spam):\n",
    "    if spam == 1:\n",
    "        print('Hello')\n",
    "    elif spam == 2:\n",
    "        print('Howdy')\n",
    "    else:\n",
    "        print('Greetings')\n",
    "        \n",
    "\n",
    "Spam(1)\n",
    "Spam(2)\n",
    "Spam(3)"
   ]
  },
  {
   "cell_type": "markdown",
   "id": "8066237e",
   "metadata": {},
   "source": [
    "#### 9. if your programme is stuck in an endless loop, what keys you'll press?"
   ]
  },
  {
   "cell_type": "markdown",
   "id": "cbe24e3c",
   "metadata": {},
   "source": [
    "If programme is stuck in an endless loop we can simply press `ctrl-c`\n",
    "\n",
    "And we can interupt the kernel by clicking on kernel drop down menu on top and then select interupt kernel"
   ]
  },
  {
   "cell_type": "markdown",
   "id": "e4c94f5d",
   "metadata": {},
   "source": [
    "#### 10. How can you tell the difference between break and continue?"
   ]
  },
  {
   "cell_type": "markdown",
   "id": "a400b717",
   "metadata": {},
   "source": [
    "If `break` is encountered then the `break` statement will terminate the loop which is running in process.\n",
    "\n",
    "If `continue` is encountered then the `continue` will move the pointer or execution to the start of the loop"
   ]
  },
  {
   "cell_type": "markdown",
   "id": "e802a65b",
   "metadata": {},
   "source": [
    "#### 11. In a for loop, what is the difference between range(10), range(0,10), and range(0,10,1)?"
   ]
  },
  {
   "cell_type": "markdown",
   "id": "2e693391",
   "metadata": {},
   "source": [
    "The differences are as follows:\n",
    "\n",
    "1. The range(10) will call the elements from 0 to 9, and the last 10 will be excluded.\n",
    "2. In range(0,10) user tells to start the range from 0 explicitly and go till 10 but exclude 10\n",
    "3. range(0,10,1) will start a element from range 0 to 10 excluding 10 with the `jump/step size` of 1"
   ]
  },
  {
   "cell_type": "markdown",
   "id": "28933701",
   "metadata": {},
   "source": [
    "#### 12. Write a short program that prints the numbers 1 to 10 using a for loop. Then write an equivalent program that prints the numbers 1 to 10 using a while loop."
   ]
  },
  {
   "cell_type": "code",
   "execution_count": 1,
   "id": "26a14ebb",
   "metadata": {},
   "outputs": [
    {
     "name": "stdout",
     "output_type": "stream",
     "text": [
      "numbers using for loop\n",
      "1 2 3 4 5 6 7 8 9 10 "
     ]
    }
   ],
   "source": [
    "print(\"numbers using for loop\")\n",
    "for i in range(1,11):\n",
    "    print(i, end = \" \")\n",
    "    "
   ]
  },
  {
   "cell_type": "code",
   "execution_count": 4,
   "id": "d4d8a3ac",
   "metadata": {},
   "outputs": [
    {
     "name": "stdout",
     "output_type": "stream",
     "text": [
      "numbers using while loop\n",
      "1 2 3 4 5 6 7 8 9 10 "
     ]
    }
   ],
   "source": [
    "i = 1\n",
    "print(\"numbers using while loop\")\n",
    "while i<=10:\n",
    "    print(i, end = \" \")\n",
    "    i += 1"
   ]
  },
  {
   "cell_type": "markdown",
   "id": "2c52b0c5",
   "metadata": {},
   "source": [
    "#### 13. If you had a function named bacon() inside a module named spam, how would you call it after importing spam?"
   ]
  },
  {
   "cell_type": "markdown",
   "id": "45f2a706",
   "metadata": {},
   "source": [
    "If we had a function named bacon() inside a module named spam, then we can call it after importing spam\n",
    "\n",
    "so this function we can call by `spam.bacon()`"
   ]
  },
  {
   "cell_type": "code",
   "execution_count": null,
   "id": "10d4f4c5",
   "metadata": {},
   "outputs": [],
   "source": []
  }
 ],
 "metadata": {
  "kernelspec": {
   "display_name": "Python 3 (ipykernel)",
   "language": "python",
   "name": "python3"
  },
  "language_info": {
   "codemirror_mode": {
    "name": "ipython",
    "version": 3
   },
   "file_extension": ".py",
   "mimetype": "text/x-python",
   "name": "python",
   "nbconvert_exporter": "python",
   "pygments_lexer": "ipython3",
   "version": "3.9.13"
  }
 },
 "nbformat": 4,
 "nbformat_minor": 5
}
