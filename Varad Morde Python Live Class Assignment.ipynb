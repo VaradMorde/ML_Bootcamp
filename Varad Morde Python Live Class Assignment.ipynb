{
 "cells": [
  {
   "cell_type": "markdown",
   "id": "4d0dd40d",
   "metadata": {},
   "source": [
    "## 13/12/22"
   ]
  },
  {
   "cell_type": "markdown",
   "id": "5951a6eb",
   "metadata": {},
   "source": [
    "#### WAP to accept two numbers from the user and display their sum"
   ]
  },
  {
   "cell_type": "code",
   "execution_count": 4,
   "id": "e8b0ee38",
   "metadata": {},
   "outputs": [
    {
     "name": "stdout",
     "output_type": "stream",
     "text": [
      "Enter First Number 4548\n",
      "Enter Second Number 452\n",
      "Sum of two Numbers is 5000\n"
     ]
    }
   ],
   "source": [
    "a = int(input(\"Enter First Number \"))\n",
    "b = int(input(\"Enter Second Number \"))\n",
    "c = a + b\n",
    "print(\"Sum of two Numbers is\", c)"
   ]
  },
  {
   "cell_type": "markdown",
   "id": "59c31391",
   "metadata": {},
   "source": [
    "#### WAP to accept radius of a Circle from the user and calculte area and circumference"
   ]
  },
  {
   "cell_type": "code",
   "execution_count": 6,
   "id": "89a8645f",
   "metadata": {},
   "outputs": [
    {
     "name": "stdout",
     "output_type": "stream",
     "text": [
      "enter radius of circle 4\n",
      "Area of circle is 50.256\n",
      "Circumference of a circle is 25.128\n"
     ]
    }
   ],
   "source": [
    "r = int(input(\"enter radius of circle \"))\n",
    "pi = 3.141\n",
    "area = pi*r*r\n",
    "print(\"Area of circle is\",area)\n",
    "circumference = 2*pi*r\n",
    "print(\"Circumference of a circle is\", circumference)"
   ]
  },
  {
   "cell_type": "markdown",
   "id": "b18cf2ec",
   "metadata": {},
   "source": [
    "#### WAP to accept roll number, grade and percentage as input from the user and display it back"
   ]
  },
  {
   "cell_type": "code",
   "execution_count": 11,
   "id": "bb941674",
   "metadata": {},
   "outputs": [
    {
     "name": "stdout",
     "output_type": "stream",
     "text": [
      "enter roll no 14\n",
      "enter your grades A\n",
      "enter your percentage 94%\n",
      "roll number is 14  grades is  A  percentage are 94%\n"
     ]
    }
   ],
   "source": [
    "roll = int(input(\"enter roll no \"))\n",
    "grade = input(\"enter your grades \")\n",
    "per = (input(\"enter your percentage \"))\n",
    "print(\"roll number is\", roll,\" grades is \",grade,\" percentage are\", per)\n"
   ]
  },
  {
   "cell_type": "markdown",
   "id": "6e402b47",
   "metadata": {},
   "source": [
    "#### Write a program that asks the user to enter his/her name and age. Print out a message, displaying the user's namealong with the year in which they will turn 100 years old."
   ]
  },
  {
   "cell_type": "code",
   "execution_count": 18,
   "id": "f4668f0c",
   "metadata": {},
   "outputs": [
    {
     "name": "stdout",
     "output_type": "stream",
     "text": [
      "enter your name varad\n",
      "enter your age 22\n",
      "your name is varad and year in which you will turn 100 years old will be 2100\n"
     ]
    }
   ],
   "source": [
    "name = input(\"enter your name \")\n",
    "age = int(input(\"enter your age \"))\n",
    "after_year = 2022 + (100 - age)\n",
    "print(\"your name is\",name, \"and year in which you will turn 100 years old will be\", after_year)"
   ]
  },
  {
   "cell_type": "markdown",
   "id": "439ff9ce",
   "metadata": {},
   "source": [
    "#### Write a program that asks the user to input 2 intergers and adds them. Accept both the numbers in a single line only"
   ]
  },
  {
   "cell_type": "code",
   "execution_count": 32,
   "id": "23f6fad0",
   "metadata": {},
   "outputs": [
    {
     "name": "stdout",
     "output_type": "stream",
     "text": [
      "enter two numbers 45 41\n",
      "sum of two numbers are 86\n"
     ]
    }
   ],
   "source": [
    "a,b = map(int,input(\"enter two numbers \").split())\n",
    "c = a + b\n",
    "print(\"sum of two numbers are\",c)"
   ]
  },
  {
   "cell_type": "markdown",
   "id": "1469ae10",
   "metadata": {},
   "source": [
    "#### Write a Python program which accpets the user's first and last name and print them in reverse order with a space between them"
   ]
  },
  {
   "cell_type": "code",
   "execution_count": 40,
   "id": "7248a13f",
   "metadata": {},
   "outputs": [
    {
     "name": "stdout",
     "output_type": "stream",
     "text": [
      "Enter your First Name varad\n",
      "Enter your last Name morde\n",
      "edrom darav\n"
     ]
    }
   ],
   "source": [
    "first = input(\"Enter your First Name \")\n",
    "last = input(\"Enter your last Name \")\n",
    "print(last[::-1],first[::-1])"
   ]
  },
  {
   "cell_type": "markdown",
   "id": "ab88b6ce",
   "metadata": {},
   "source": [
    "---------------------------------------------------------------------------"
   ]
  },
  {
   "cell_type": "markdown",
   "id": "97c521cd",
   "metadata": {},
   "source": [
    "### 15/12/2022"
   ]
  },
  {
   "cell_type": "markdown",
   "id": "83d5cf6c",
   "metadata": {},
   "source": [
    "#### WAP to accept an integer from the user and check whether it is an even or odd"
   ]
  },
  {
   "cell_type": "code",
   "execution_count": 42,
   "id": "69ba8a13",
   "metadata": {},
   "outputs": [
    {
     "name": "stdout",
     "output_type": "stream",
     "text": [
      "Enter a number 98\n",
      "Number is even\n"
     ]
    }
   ],
   "source": [
    "a = int(input(\"Enter a number \"))\n",
    "if a%2==0:\n",
    "    print(\"Number is even\")\n",
    "else:\n",
    "    print(\"Number is odd\")"
   ]
  },
  {
   "cell_type": "markdown",
   "id": "88ff633b",
   "metadata": {},
   "source": [
    "#### WAP to accept a character from the user and check whether it is a capital letter or small letter. Assume user will input only alphabets"
   ]
  },
  {
   "cell_type": "code",
   "execution_count": 46,
   "id": "4dd0540c",
   "metadata": {},
   "outputs": [
    {
     "name": "stdout",
     "output_type": "stream",
     "text": [
      "enter a letter v\n",
      "Letter you entered is small letter\n"
     ]
    }
   ],
   "source": [
    "a = input(\"enter a letter \")\n",
    "if \"A\"<=a<=\"Z\":\n",
    "    print(\"Letter you entered is a capital letter\")\n",
    "else:\n",
    "    print(\"Letter you entered is small letter\")"
   ]
  },
  {
   "cell_type": "markdown",
   "id": "696ef60c",
   "metadata": {},
   "source": [
    "#### WAP to accept a character from the user and check whether it is a capital letter or small letter or a digit or a some special symbol"
   ]
  },
  {
   "cell_type": "code",
   "execution_count": 56,
   "id": "a131daaf",
   "metadata": {},
   "outputs": [
    {
     "name": "stdout",
     "output_type": "stream",
     "text": [
      "enter a letter #\n",
      "Letter you entered is a special symbol\n"
     ]
    }
   ],
   "source": [
    "a = input(\"enter a letter \")\n",
    "if \"A\"<=a<=\"Z\":\n",
    "    print(\"Letter you entered is a capital letter\")\n",
    "elif \"a\"<=a<=\"z\":\n",
    "    print(\"Letter you entered is a small letter\")\n",
    "elif (int(ord(a)) >= 48 and int(ord(a)) <= 57):\n",
    "      print(\"Letter you entered is a digit\")\n",
    "else:\n",
    "      print(\"Letter you entered is a special symbol\")"
   ]
  },
  {
   "cell_type": "markdown",
   "id": "bf0d38c8",
   "metadata": {},
   "source": [
    "#### WAP to accept 3 integers from the user and without using any logical operator and cascading of relational operators, find out the greates number amongst them"
   ]
  },
  {
   "cell_type": "code",
   "execution_count": 57,
   "id": "83b1aa95",
   "metadata": {},
   "outputs": [
    {
     "name": "stdout",
     "output_type": "stream",
     "text": [
      "enter a first number 487\n",
      "enter a second number 5545\n",
      "enter a third number 111111111111\n",
      "max number amongst them is 111111111111\n"
     ]
    }
   ],
   "source": [
    "a = int(input(\"enter a first number \"))\n",
    "b = int(input(\"enter a second number \"))\n",
    "c = int(input(\"enter a third number \"))\n",
    "print(\"max number amongst them is\", max(a,b,c))"
   ]
  },
  {
   "cell_type": "markdown",
   "id": "e9c07fad",
   "metadata": {},
   "source": [
    "---------------------------------------------------------------------------"
   ]
  },
  {
   "cell_type": "markdown",
   "id": "1217410e",
   "metadata": {},
   "source": [
    "#### WAP to accept a year from the user and check whether it is a leap year or not.\n",
    "#### An year is a leap year if:\n",
    "#### It is exactly divisible by 4 and at the same time\n",
    "#### not\n",
    "#### divisible by 100\n",
    "#### OR\n",
    "#### It is divisible by 400"
   ]
  },
  {
   "cell_type": "code",
   "execution_count": 69,
   "id": "e5fb40e3",
   "metadata": {},
   "outputs": [
    {
     "name": "stdout",
     "output_type": "stream",
     "text": [
      "Enter a year 2000\n",
      "leap year\n"
     ]
    }
   ],
   "source": [
    "a = int(input(\"Enter a year \"))\n",
    "if a%4==0 and a%100!=0:\n",
    "    print(\"leap year\")\n",
    "elif a%100!=0 or a%400==0:\n",
    "    print(\"leap year\")\n",
    "else:\n",
    "    print(\"not a leap year\")"
   ]
  },
  {
   "cell_type": "markdown",
   "id": "eb62e1b3",
   "metadata": {},
   "source": [
    "#### You have to develop a number guessing game. Following are the steps needed:\n",
    "#### At first, the program will generate a random integer secretly.\n",
    "#### Now it will ask the user to guess that number.\n",
    "#### if the user guessed it correctly then the program prints\"Congratulations! You guessed it right\".\n",
    "#### But if the number guessed by the user is larger than the secret number then program should print\n",
    "#### \"Number too large\" and, if the number guessed by the user is smaller than the secret number then the program should print \"Number too small\"\n",
    "#### This should continue until the user guesses the number correctly or quits.\n",
    "#### If the user wants to quit in between he will have to type 0 or negative number"
   ]
  },
  {
   "cell_type": "code",
   "execution_count": null,
   "id": "bba65b07",
   "metadata": {},
   "outputs": [],
   "source": []
  },
  {
   "cell_type": "markdown",
   "id": "76c664ea",
   "metadata": {},
   "source": [
    "#### Write a program to accept a string from the user and display it vertically but don't display the vowels in it."
   ]
  },
  {
   "cell_type": "code",
   "execution_count": 91,
   "id": "9e9cbe61",
   "metadata": {},
   "outputs": [
    {
     "name": "stdout",
     "output_type": "stream",
     "text": [
      "enter your string varad morde\n",
      "v\n",
      "r\n",
      "d\n",
      " \n",
      "m\n",
      "r\n",
      "d\n"
     ]
    }
   ],
   "source": [
    "n=input(\"enter your string \")\n",
    "a= 0\n",
    "while(a<len(n)):\n",
    "    if n[a]!='a' and n[a]!='e' and n[a]!='i' and n[a]!='o' and n[a]!='u' and n[a]!='A' and n[a]!='E' and n[a]!='I' and n[a]!='O' and n[a]!='U':\n",
    "        print(n[a])\n",
    "    a+=1"
   ]
  },
  {
   "cell_type": "markdown",
   "id": "d28bd039",
   "metadata": {},
   "source": [
    "#### Write a program to continuously accept integers from the user until the user types 0 and as soon as 0 is entered display sum of all the nos entered before"
   ]
  },
  {
   "cell_type": "code",
   "execution_count": 88,
   "id": "fdbf85cc",
   "metadata": {},
   "outputs": [
    {
     "name": "stdout",
     "output_type": "stream",
     "text": [
      "Enter integer45\n",
      "Enter integer4\n",
      "Enter integer12\n",
      "Enter integer0\n",
      "sum of the entered numbers 61\n"
     ]
    }
   ],
   "source": [
    "l=0\n",
    "a=int(input(\"Enter integer\"))\n",
    "while a!=0:\n",
    "    l=l+a\n",
    "    a=int(input(\"Enter integer\"))\n",
    "#     l.append(a)\n",
    "if a==0:\n",
    "    print('sum of the entered numbers',l)"
   ]
  },
  {
   "cell_type": "markdown",
   "id": "ad47c8f7",
   "metadata": {},
   "source": [
    "#### Write a program using a for loop to accept a string from the user and display it vertically but don't display the vowels in it."
   ]
  },
  {
   "cell_type": "code",
   "execution_count": 101,
   "id": "f78f9d75",
   "metadata": {},
   "outputs": [
    {
     "name": "stdout",
     "output_type": "stream",
     "text": [
      "enter a string varad morde\n",
      "v\n",
      "r\n",
      "d\n",
      " \n",
      "m\n",
      "r\n",
      "d\n"
     ]
    }
   ],
   "source": [
    "n=input(\"enter a string \")\n",
    "a=0\n",
    "for i in range(len(n)):\n",
    "    if n[a]!='a' and n[a]!='e' and n[a]!='i' and n[a]!='o' and n[a]!='u' and n[a]!='A' and n[a]!='E' and n[a]!='I' and n[a]!='O' and n[a]!='U':\n",
    "        print(n[a])\n",
    "    a+=1"
   ]
  },
  {
   "cell_type": "markdown",
   "id": "90d7d431",
   "metadata": {},
   "source": [
    "#### Write a program to accept an integer from the user and display the sum of all the numbers form 1 to that number."
   ]
  },
  {
   "cell_type": "code",
   "execution_count": 106,
   "id": "1adeb2e4",
   "metadata": {},
   "outputs": [
    {
     "name": "stdout",
     "output_type": "stream",
     "text": [
      "Enter any number 10\n",
      "sum of the number 55\n"
     ]
    }
   ],
   "source": [
    "num = int(input(\"Enter any number \"))\n",
    "sum=0\n",
    "for i in range(num+1):\n",
    "    sum = sum + i\n",
    "    num+=1\n",
    "print(\"sum of the number\",sum)\n",
    "    "
   ]
  },
  {
   "cell_type": "markdown",
   "id": "1bf80495",
   "metadata": {},
   "source": [
    "#### Write a program to accept an integer fromt the user and calculate its factorial"
   ]
  },
  {
   "cell_type": "code",
   "execution_count": 108,
   "id": "cb2d8b39",
   "metadata": {},
   "outputs": [
    {
     "name": "stdout",
     "output_type": "stream",
     "text": [
      "enter a number 5\n",
      "The factorial of 21 is 120\n"
     ]
    }
   ],
   "source": [
    "a = int(input(\"enter a number \"))\n",
    "fact=1\n",
    "if a<0:\n",
    "    print(\"no fact\")\n",
    "elif a == 0:\n",
    "    print(\"the factorial of 0 is 1\")\n",
    "elif a == 1:\n",
    "    print(\"the factorial of 1 is 1\")\n",
    "else:\n",
    "    for i in range(1,a+1):\n",
    "        fact = fact*i\n",
    "    print(\"The factorial of\",num,\"is\",fact)"
   ]
  },
  {
   "cell_type": "markdown",
   "id": "1357fbb7",
   "metadata": {},
   "source": [
    "#### Write a program to print the following pattern"
   ]
  },
  {
   "cell_type": "code",
   "execution_count": 112,
   "id": "560f4268",
   "metadata": {},
   "outputs": [
    {
     "name": "stdout",
     "output_type": "stream",
     "text": [
      "enter the number of rows6\n",
      "*******\n",
      "*******\n",
      "*******\n",
      "*******\n",
      "*******\n",
      "*******\n"
     ]
    }
   ],
   "source": [
    "n= int(input(\"enter the number of rows\"))\n",
    "for i in range(0,n):\n",
    "    for j in range(0,n+1):\n",
    "        print(\"*\",end=\"\")\n",
    "    print()"
   ]
  },
  {
   "cell_type": "markdown",
   "id": "e7dbc5da",
   "metadata": {},
   "source": [
    "#### Write a program to print the following pattern"
   ]
  },
  {
   "cell_type": "code",
   "execution_count": 111,
   "id": "d323d197",
   "metadata": {},
   "outputs": [
    {
     "name": "stdout",
     "output_type": "stream",
     "text": [
      "enter the number of rows6\n",
      "*\n",
      "**\n",
      "***\n",
      "****\n",
      "*****\n",
      "******\n"
     ]
    }
   ],
   "source": [
    "n = int(input(\"enter the number of rows\"))\n",
    "for i in range(0,n):\n",
    "    for j in range(0,i+1):\n",
    "        print(\"*\",end=\"\")\n",
    "    print()"
   ]
  },
  {
   "cell_type": "markdown",
   "id": "dedcf425",
   "metadata": {},
   "source": [
    "#### write a program to print the following pattern"
   ]
  },
  {
   "cell_type": "code",
   "execution_count": 115,
   "id": "5a0f2bc1",
   "metadata": {},
   "outputs": [
    {
     "name": "stdout",
     "output_type": "stream",
     "text": [
      "enter the number of rows6\n",
      "******\n",
      "*****\n",
      "****\n",
      "***\n",
      "**\n",
      "*\n"
     ]
    }
   ],
   "source": [
    "n = int(input(\"enter the number of rows\"))\n",
    "for i in range(0,n):\n",
    "    for i in range(i,n):\n",
    "        print(\"*\",end=\"\")\n",
    "    print()"
   ]
  },
  {
   "cell_type": "markdown",
   "id": "d28ae6fc",
   "metadata": {},
   "source": [
    "#### Write a program to accept an integer from the user and display all the numbers from 1 to that number. Repeat the process until the users enters 0."
   ]
  },
  {
   "cell_type": "code",
   "execution_count": 18,
   "id": "59a996dc",
   "metadata": {},
   "outputs": [
    {
     "name": "stdout",
     "output_type": "stream",
     "text": [
      "Enter any number6\n",
      "[0, 1, 2, 3, 4, 5]\n",
      "Enter any number2\n",
      "[0, 1]\n",
      "Enter any number6\n",
      "[0, 1, 2, 3, 4, 5]\n",
      "Enter any number8\n",
      "[0, 1, 2, 3, 4, 5, 6, 7]\n",
      "Enter any number0\n",
      "sorry! You entered 0\n"
     ]
    }
   ],
   "source": [
    "a = int((input(\"Enter any number\")))\n",
    "while(a!=0):\n",
    "    print(list(range(a)))\n",
    "    a = int((input(\"Enter any number\")))\n",
    "if(a == 0):\n",
    "    print(\"sorry! You entered 0\")\n",
    "    \n"
   ]
  },
  {
   "cell_type": "code",
   "execution_count": null,
   "id": "c09ce57a",
   "metadata": {},
   "outputs": [],
   "source": []
  }
 ],
 "metadata": {
  "kernelspec": {
   "display_name": "Python 3 (ipykernel)",
   "language": "python",
   "name": "python3"
  },
  "language_info": {
   "codemirror_mode": {
    "name": "ipython",
    "version": 3
   },
   "file_extension": ".py",
   "mimetype": "text/x-python",
   "name": "python",
   "nbconvert_exporter": "python",
   "pygments_lexer": "ipython3",
   "version": "3.9.13"
  }
 },
 "nbformat": 4,
 "nbformat_minor": 5
}
